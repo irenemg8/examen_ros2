{
  "cells": [
    {
      "cell_type": "markdown",
      "metadata": {
        "id": "rIJMZ44KNjIx"
      },
      "source": [
        "\n",
        "# ROS2_23_24_recuperacion -- ejercicio 1"
      ]
    },
    {
      "cell_type": "markdown",
      "metadata": {
        "id": "yCp9us5bNbGq"
      },
      "source": [
        "¡IMPORTANTE! En cada ejercicio se especifica el nombre de los paquetes, ficheros de lanzamiento etc. Es imprescindible que sigáis estas instrucciones ya que se va a testear la entrega del examen automáticamente.\n",
        "\n",
        "Utilizando ROS2 se desea implementar un paquete para cargar un mundo que contenga:\n",
        "\n",
        "- el entorno office con el modelo una oficina\n",
        "\n",
        "- el robot turtlebot_3\n",
        "\n",
        "Para ello se proporciona un archivo comprimido (ej_01.zip) que contiene todos los archivos necesarios para cargar en gazebo el modelo office y el robot turtlebot3."
      ]
    },
    {
      "cell_type": "markdown",
      "metadata": {
        "id": "EHC4BYxVNoau"
      },
      "source": [
        "## Pasos a seguir"
      ]
    },
    {
      "cell_type": "markdown",
      "metadata": {
        "id": "cSB3bTf7NqWg"
      },
      "source": [
        "1. Crear el paquete ex_recu_24_preg_01  con dependencias: rclcpp,  gazebo_ros_pkgs,  geometry_msgs,  nav_msgs,  sensor_msgs,  tf2 y turtlebot3_gazebo"
      ]
    },
    {
      "cell_type": "code",
      "execution_count": null,
      "metadata": {
        "id": "3y3jyAE1Ns1_"
      },
      "outputs": [],
      "source": [
        "# En visual abro la carpeta donde me pidan ponerlo y abro una terminal y pongo esto ahí para crear la carpeta\n",
        "ros2 pkg create --build-type ament_cmake ex_recu_24_preg_01 --dependencies rclcpp gazebo_ros_pkgs geometry_msgs nav_msgs sensor_msgs tf2 turtlebot3_gazebo"
      ]
    },
    {
      "cell_type": "markdown",
      "metadata": {
        "id": "fcK1XY_9N_IG"
      },
      "source": [
        "2. Crear los siguientes directorios en el paquete anterior:\n",
        "\n",
        "- models: con los modelos necesarios turtlebot3_burger y todos los modelos que hacen falta para cargar la librería (se proporcionan estos modelos en el directorio models del archivo ej01.zip)\n",
        "\n",
        "- world: con el modelo del mundo (burger_office.world) que se proporciona en el archivo ej01.zip\n",
        "\n",
        "- launch: contendrá el fichero de lanzamiento del mundo (lo crearemos en el apartado 3)\n",
        "\n",
        "- src:  incluir los ficheros necesarios para implementar el comportamiento del robot en simulación ( turtlebot3_drive.cpp y turtlebot3_drive.hpp) que se proporcionan\n",
        "\n",
        "- urdf: con el fichero de descripción hardware (turtlenbot3_burger.urdf) que se proporciona"
      ]
    },
    {
      "cell_type": "markdown",
      "metadata": {
        "id": "DFp7WY2MQIug"
      },
      "source": [
        "3. Crear el fichero de lanzamiento paquete ex_recu_24_preg_01_tb3.launch.py  que lance el entorno proporcionado junto con el robot turtlebot3"
      ]
    },
    {
      "cell_type": "code",
      "execution_count": null,
      "metadata": {
        "id": "RAt2buH4QSrz"
      },
      "outputs": [],
      "source": [
        "import os\n",
        "\n",
        "from ament_index_python.packages import get_package_share_directory\n",
        "from launch import LaunchDescription\n",
        "from launch.actions import IncludeLaunchDescription, DeclareLaunchArgument\n",
        "from launch.launch_description_sources import PythonLaunchDescriptionSource\n",
        "from launch.substitutions import LaunchConfiguration\n",
        "from launch_ros.substitutions import FindPackageShare\n",
        "from launch_ros.actions import Node\n",
        "\n",
        "TURTLEBOT3_MODEL = os.environ['TURTLEBOT3_MODEL']\n",
        "\n",
        "def generate_launch_description():\n",
        "    world_file_name = 'world/' + TURTLEBOT3_MODEL + '.model'\n",
        "    urdf_file_name = 'urdf/turtlebot3_' + TURTLEBOT3_MODEL + '.urdf'\n",
        "    pkg_share = FindPackageShare(package='my_world').find('my_world')\n",
        "    gazebo_models_path = os.path.join(pkg_share, 'models')\n",
        "    os.environ[\"GAZEBO_MODEL_PATH\"] = gazebo_models_path\n",
        "    use_sim_time = LaunchConfiguration('use_sim_time', default='true')\n",
        "    world = os.path.join(pkg_share, world_file_name)\n",
        "    urdf = os.path.join(pkg_share,  urdf_file_name )\n",
        "\n",
        "    launch_file_dir = os.path.join(get_package_share_directory('turtlebot3_gazebo'), 'launch')\n",
        "    pkg_gazebo_ros = get_package_share_directory('gazebo_ros')\n",
        "\n",
        "    return LaunchDescription([\n",
        "        IncludeLaunchDescription(\n",
        "            PythonLaunchDescriptionSource(\n",
        "                os.path.join(pkg_gazebo_ros, 'launch', 'gzserver.launch.py')\n",
        "            ),\n",
        "            launch_arguments={'world': world}.items(),\n",
        "        ),\n",
        "\n",
        "        IncludeLaunchDescription(\n",
        "            PythonLaunchDescriptionSource(\n",
        "                os.path.join(pkg_gazebo_ros, 'launch', 'gzclient.launch.py')\n",
        "            ),\n",
        "        ),\n",
        "\n",
        "        IncludeLaunchDescription(\n",
        "            PythonLaunchDescriptionSource([launch_file_dir, '/robot_state_publisher.launch.py']),\n",
        "            launch_arguments={'use_sim_time': use_sim_time}.items(),\n",
        "        ),\n",
        "\n",
        "    ])"
      ]
    },
    {
      "cell_type": "markdown",
      "metadata": {
        "id": "0Tq4Ze97Qoft"
      },
      "source": [
        "4. Hacer las modificaciones necesarias en el fichero CMakeLists.txt para que todo se ejecute correctamente"
      ]
    },
    {
      "cell_type": "code",
      "execution_count": null,
      "metadata": {
        "id": "E3p4QTHSQqMb"
      },
      "outputs": [],
      "source": [
        "################################################################################\n",
        "# Set minimum required version of cmake, project name and compile options\n",
        "################################################################################\n",
        "cmake_minimum_required(VERSION 3.5)\n",
        "project(my_world)\n",
        "\n",
        "if(NOT CMAKE_CXX_STANDARD)\n",
        "  set(CMAKE_CXX_STANDARD 14)\n",
        "endif()\n",
        "my_world\n",
        "if(CMAKE_COMPILER_IS_GNUCXX OR CMAKE_CXX_COMPILER_ID MATCHES \"Clang\")\n",
        "  add_compile_options(-Wall -Wextra -Wpedantic)\n",
        "endif()\n",
        "\n",
        "if(MSVC)\n",
        "  add_compile_definitions(_USE_MATH_DEFINES)\n",
        "endif()\n",
        "\n",
        "################################################################################\n",
        "# Find ament packages and libraries for ament and system dependencies\n",
        "################################################################################\n",
        "find_package(ament_cmake REQUIRED)\n",
        "find_package(gazebo REQUIRED)\n",
        "find_package(gazebo_ros_pkgs REQUIRED)\n",
        "find_package(geometry_msgs REQUIRED)\n",
        "find_package(nav_msgs REQUIRED)\n",
        "find_package(rclcpp REQUIRED)\n",
        "find_package(sensor_msgs REQUIRED)\n",
        "find_package(tf2 REQUIRED)\n",
        "find_package(turtlebot3_gazebo REQUIRED)\n",
        "\n",
        "################################################################################\n",
        "# Build\n",
        "################################################################################\n",
        "link_directories(\n",
        "  ${GAZEBO_LIBRARY_DIRS}\n",
        ")\n",
        "\n",
        "include_directories(\n",
        "  include\n",
        "  ${GAZEBO_INCLUDE_DIRS}\n",
        ")\n",
        "\n",
        "set(dependencies\n",
        "  \"geometry_msgs\"\n",
        "  \"nav_msgs\"\n",
        "  \"rclcpp\"\n",
        "  \"sensor_msgs\"\n",
        "  \"tf2\"\n",
        ")\n",
        "\n",
        "set(EXEC_NAME \"turtlebot3_drive\")\n",
        "\n",
        "add_executable(${EXEC_NAME} src/turtlebot3_drive.cpp)\n",
        "ament_target_dependencies(${EXEC_NAME} ${dependencies})\n",
        "\n",
        "################################################################################\n",
        "# Install\n",
        "################################################################################\n",
        "install(TARGETS ${EXEC_NAME}\n",
        "  DESTINATION lib/${PROJECT_NAME}\n",
        ")\n",
        "\n",
        "install(DIRECTORY launch models world urdf\n",
        "  DESTINATION share/${PROJECT_NAME}/\n",
        ")\n",
        "\n",
        "install(DIRECTORY include/\n",
        "  DESTINATION include/\n",
        ")\n",
        "\n",
        "################################################################################\n",
        "# Macro for ament package\n",
        "################################################################################\n",
        "ament_export_include_directories(include)\n",
        "ament_export_dependencies(gazebo_ros_pkgs)\n",
        "ament_export_dependencies(geometry_msgs)\n",
        "ament_export_dependencies(nav_msgs)\n",
        "ament_export_dependencies(rclcpp)\n",
        "ament_export_dependencies(sensor_msgs)\n",
        "ament_export_dependencies(tf2)\n",
        "ament_package()"
      ]
    },
    {
      "cell_type": "markdown",
      "metadata": {
        "id": "_AfntTFeR8B4"
      },
      "source": [
        "5. Compilar y simular"
      ]
    },
    {
      "cell_type": "code",
      "execution_count": null,
      "metadata": {
        "id": "vUSCpTrhe8uV"
      },
      "outputs": [],
      "source": [
        "cd turtlebot3_ws\n",
        "colcon build --packages-select ex_recu_24_preg_01\n",
        "source install/setup.bash"
      ]
    },
    {
      "cell_type": "markdown",
      "metadata": {
        "id": "DxRLEXgde-hz"
      },
      "source": [
        "Antes de poner el launch asegurarnos de que estamos en la ruta correcta\n",
        "\n",
        "\n",
        "Modelo Asun en home\n",
        "```\n",
        "export GAZEBO_MODEL_PATH=$HOME/examen_ros2/src/ex_recu_24_preg_01/models:$GAZEBO_MODEL_PATH\n",
        "```\n",
        "\n",
        "Para mi ejemplo usé este\n",
        "```\n",
        "gazebo ~/examen_ros2/ex_recu_24_preg_01/world/burger_office.world --verbose\n",
        "```"
      ]
    },
    {
      "cell_type": "code",
      "execution_count": null,
      "metadata": {
        "id": "NbtVtYuVfA7I"
      },
      "outputs": [],
      "source": [
        "ros2 launch ex_recu_24_preg_01 ex_recu_24_preg_01_tb3.launch.py  #usar el comando anterior, este da error"
      ]
    },
    {
      "cell_type": "markdown",
      "metadata": {
        "id": "951q5Bd1evs6"
      },
      "source": [
        "6. Ejecutar el visualizador RVIZ y configurarlo con los siguientes displays:\n",
        "- Modelo del Robot\n",
        "- Laser\n",
        "- Transformadas (TF)\n",
        "\n",
        " Entregar un pantallazo que muestre claramente la vista del visualizador RVIZ con los displays seleccionados"
      ]
    },
    {
      "cell_type": "code",
      "execution_count": null,
      "metadata": {
        "id": "oX5RwBGrfXZn"
      },
      "outputs": [],
      "source": [
        "export TURTLEBOT3_MODEL=burger\n",
        "ros2 launch turtlebot3_cartographer cartographer.launch.py use_sim_time:=True"
      ]
    },
    {
      "cell_type": "markdown",
      "metadata": {
        "id": "SZGW3RgsqWtJ"
      },
      "source": [
        "Si queréis que aparezca el modelo del robot en el visualizador RVIZ debeis añadir (botón Add) el Topic RobotModel y cambiar dos parámetros:\n",
        "\n",
        "Description Source: ponemos File\n",
        "\n",
        "Description File: seleccionamos la ruta en la que se encuentra el fichero de descripción del robot, en nuestro caso está en turtlebot3_ws/src/turtlebot3/turtlebot3_description/urdf/turtlebot3_burger.urdf. En el Polilab este fichero está en /opt/ros/galactic/share/turtlebot3_description/urdf/turtlebot3_burger.urdf."
      ]
    },
    {
      "cell_type": "markdown",
      "metadata": {
        "id": "zl3ltxMBfx0S"
      },
      "source": [
        "Revisar que todos se ha cargado correctamente.\n",
        "Usar el menú File > Save Config As para guardar el archivo de configuración en el directorio rviz que acabamos de crear."
      ]
    },
    {
      "cell_type": "markdown",
      "metadata": {
        "id": "7dq8_zjVq0cm"
      },
      "source": [
        "## rqt gui"
      ]
    },
    {
      "cell_type": "code",
      "execution_count": null,
      "metadata": {
        "id": "oseYK8Ftq2IX"
      },
      "outputs": [],
      "source": [
        "ros2 run rqt_gui rqt_gui"
      ]
    },
    {
      "cell_type": "code",
      "execution_count": null,
      "metadata": {
        "id": "rLPTZLWts6JG"
      },
      "outputs": [],
      "source": [
        "rqt_graph"
      ]
    },
    {
      "cell_type": "markdown",
      "metadata": {
        "id": "JpMUcrpmsUEk"
      },
      "source": [
        "🟢 Nodos\n",
        "/cartographer_node\n",
        "Nodo principal del sistema de SLAM de Cartographer. Se encarga de construir el mapa y de publicar información sobre submapas y transformaciones.\n",
        "\n",
        "/robot_state_publisher\n",
        "Publica el estado actual del robot (poses de las articulaciones y frames) en el tópico /tf. Se basa en el archivo URDF del robot.\n",
        "\n",
        "/occupancy_grid_node\n",
        "Toma la información de submapas de Cartographer y genera un mapa tipo Occupancy Grid (rejilla de ocupación), útil para navegación.\n",
        "\n",
        "/transform_listener_Impl_5637b08a6c40\n",
        "Listener interno de TF que escucha las transformaciones en /tf. No lo lanzas directamente, es generado automáticamente cuando usas TF en tu código.\n",
        "\n",
        "/gazebo\n",
        "Nodo del simulador Gazebo. Probablemente esté corriendo el mundo simulado en el que se encuentra el robot."
      ]
    },
    {
      "cell_type": "markdown",
      "metadata": {
        "id": "SUXTk4n9sU7N"
      },
      "source": [
        "🔷 Tópicos\n",
        "\n",
        "/clock: Este tópico proporciona la hora del sistema y es especialmente útil cuando estás corriendo simulaciones con Gazebo o reproduciendo bags, ya que sincroniza los tiempos.\n",
        "\n",
        "/constraint_list: Publica un MarkerArray para visualizar las restricciones entre nodos en el grafo de optimización del SLAM, útil para ver cómo Cartographer está ajustando el mapa.\n",
        "\n",
        "/joint_states: Publica los estados de las articulaciones del robot, como posiciones y velocidades. Este mensaje es importante para robots con múltiples grados de libertad.\n",
        "\n",
        "/landmark_poses_list: Publica las posiciones de marcadores o \"landmarks\" que Cartographer detecta o utiliza como referencias fijas para mejorar la localización.\n",
        "\n",
        "/map: Contiene el mapa en formato de rejilla de ocupación (OccupancyGrid) generado por el sistema SLAM. Este tópico se suele usar con herramientas de navegación y visualización como RViz.\n",
        "\n",
        "/odom: Publica la odometría del robot, es decir, su posición estimada a partir de sensores de movimiento (como encoders). Se puede usar como fuente de movimiento base.\n",
        "\n",
        "/parameter_events: Publica eventos relacionados con cambios en parámetros dinámicos dentro del sistema ROS2. Es parte del sistema de configuración de nodos.\n",
        "\n",
        "/performance_metrics: Proviene de Gazebo y proporciona métricas sobre el rendimiento de la simulación, como uso de CPU o tiempo de simulación real vs. tiempo de simulación.\n",
        "\n",
        "/robot_description: Contiene el modelo URDF del robot en forma de cadena de texto. Este modelo describe su estructura, articulaciones y enlaces.\n",
        "\n",
        "/rosout: Tópico donde se publican los mensajes de log de los nodos ROS. Funciona como la consola del sistema distribuido.\n",
        "\n",
        "/scan: Publica los datos del sensor LIDAR o escáner láser en formato LaserScan. Este mensaje es esencial para SLAM y navegación basada en percepción.\n",
        "\n",
        "/scan_matched_points2: Publica una nube de puntos (PointCloud2) generada a partir del proceso de scan matching en Cartographer. Refleja los puntos ajustados a los submapas.\n",
        "\n",
        "/submap_list: Contiene una lista de los submapas que Cartographer ha generado hasta el momento. Es clave para visualizar y entender cómo se está construyendo el mapa general.\n",
        "\n",
        "/tf: Publica transformaciones dinámicas entre frames del robot, necesarias para entender la relación espacial entre sensores, enlaces del robot y el entorno.\n",
        "\n",
        "/tf_static: Similar a /tf, pero solo para transformaciones que no cambian en el tiempo. Por ejemplo, la posición relativa fija entre dos componentes.\n",
        "\n",
        "/trajectory_node_list: Publica un MarkerArray que representa gráficamente la trayectoria del robot (los nodos de trayectoria) que Cartographer ha calculado. Muy útil para depurar o visualizar el recorrido del robot en RViz."
      ]
    },
    {
      "cell_type": "markdown",
      "metadata": {},
      "source": [
        "----"
      ]
    },
    {
      "cell_type": "markdown",
      "metadata": {},
      "source": [
        "🧩 Nodos\n",
        "/cartographer_node\n",
        "Realiza SLAM combinando los datos del LiDAR y la odometría para generar el mapa y las transformaciones entre marcos.\n",
        "\n",
        "/occupancy_grid_node\n",
        "Convierte los submapas de Cartographer en un mapa de ocupación para navegación.\n",
        "\n",
        "/turtlebot3_diff_drive\n",
        "Controla el movimiento del robot y publica odometría.\n",
        "\n",
        "/turtlebot3_laserscan\n",
        "Nodo que publica los datos del sensor láser del robot.\n",
        "\n",
        "/turtlebot3_imu\n",
        "Publica los datos del sensor inercial (IMU).\n",
        "\n",
        "/turtlebot3_joint_state\n",
        "Publica el estado de las articulaciones del robot.\n",
        "\n",
        "/tf y /tf_static\n",
        "Publican transformaciones entre los distintos marcos de coordenadas del sistema.\n",
        "\n",
        "/transform_listener_impl_*\n",
        "Nodos que escuchan y utilizan transformaciones de tf.\n",
        "\n",
        "\n",
        "\n",
        "📡 Tópicos\n",
        "/scan\n",
        "Datos del LiDAR, enviados como mensajes de tipo LaserScan.\n",
        "\n",
        "/odom\n",
        "Publica la odometría del robot (posición y orientación estimada).\n",
        "\n",
        "/imu\n",
        "Datos del sensor inercial (acelerómetro, giroscopio).\n",
        "\n",
        "/joint_states\n",
        "Información sobre las posiciones y velocidades de las ruedas del robot.\n",
        "\n",
        "/scan_matched_points2\n",
        "Nube de puntos generada por Cartographer a partir del escáner láser.\n",
        "\n",
        "/submap_list\n",
        "Lista de submapas que Cartographer utiliza para construir el mapa completo.\n",
        "\n",
        "/map\n",
        "Mapa de ocupación final, usado para navegación.\n",
        "\n",
        "/tf y /tf_static\n",
        "Publican las transformaciones entre marcos de coordenadas.\n",
        "\n",
        "/clicked_point, /cmd_vel, /initialpose, /goal\n",
        "Tópicos usados desde RViz para interacción con el robot (establecer objetivos, poses iniciales y enviar comandos de movimiento).\n",
        "\n",
        "/trajectory_node_list, /landmark_poses_list, /constraint_list\n",
        "Tópicos usados por Cartographer para visualizar restricciones, trayectorias y landmarks durante el SLAM.\n",
        "\n",
        "\n",
        "\n",
        "\n"
      ]
    },
    {
      "cell_type": "code",
      "execution_count": null,
      "metadata": {},
      "outputs": [],
      "source": []
    },
    {
      "cell_type": "code",
      "execution_count": null,
      "metadata": {},
      "outputs": [],
      "source": []
    }
  ],
  "metadata": {
    "colab": {
      "provenance": []
    },
    "kernelspec": {
      "display_name": "Python 3",
      "name": "python3"
    },
    "language_info": {
      "codemirror_mode": {
        "name": "ipython",
        "version": 3
      },
      "file_extension": ".py",
      "mimetype": "text/x-python",
      "name": "python",
      "nbconvert_exporter": "python",
      "pygments_lexer": "ipython3",
      "version": "3.8.10"
    }
  },
  "nbformat": 4,
  "nbformat_minor": 0
}
